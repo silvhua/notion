{
 "cells": [
  {
   "cell_type": "markdown",
   "id": "68e23905",
   "metadata": {},
   "source": [
    "# time stamp"
   ]
  },
  {
   "cell_type": "code",
   "execution_count": 1,
   "id": "ce2fa16e",
   "metadata": {},
   "outputs": [
    {
     "name": "stdout",
     "output_type": "stream",
     "text": [
      "2023-12-21_0928\n"
     ]
    }
   ],
   "source": [
    "var timestamp = new Date().toISOString().replace(/[T]/g, '_').slice(0, -8).replace(/[:.]/g, '');\n",
    "console.log(timestamp);"
   ]
  },
  {
   "cell_type": "code",
   "execution_count": 14,
   "id": "db63cf86",
   "metadata": {},
   "outputs": [
    {
     "name": "stdout",
     "output_type": "stream",
     "text": [
      "12212023125622AM\n"
     ]
    }
   ],
   "source": [
    "var timestamp = new Date().toLocaleString(\"en-US\", { timeZone: \"America/Los_Angeles\" }).replace(/[\\/\\s:,]/g, '');\n",
    "console.log(timestamp);"
   ]
  },
  {
   "cell_type": "code",
   "execution_count": 17,
   "id": "5b44346c",
   "metadata": {},
   "outputs": [
    {
     "name": "stdout",
     "output_type": "stream",
     "text": [
      "12/21/2023, 12:57:39 AM\n"
     ]
    }
   ],
   "source": [
    "var timestamp = new Date().toLocaleString(\"en-US\", { timeZone: \"America/Los_Angeles\" });\n",
    "console.log(timestamp);"
   ]
  },
  {
   "cell_type": "code",
   "execution_count": 20,
   "id": "3c7fc5e1",
   "metadata": {},
   "outputs": [
    {
     "name": "stdout",
     "output_type": "stream",
     "text": [
      "12/21/2023T1:00:55 AM\n"
     ]
    }
   ],
   "source": [
    "const isoStringInPT = new Date().toLocaleString('en-US', { timeZone: 'America/Los_Angeles' }).split(', ').join('T');\n",
    "\n",
    "console.log(isoStringInPT);\n",
    "\n"
   ]
  },
  {
   "cell_type": "code",
   "execution_count": 21,
   "id": "9e569c76",
   "metadata": {},
   "outputs": [
    {
     "name": "stdout",
     "output_type": "stream",
     "text": [
      "2023-12-21T09:01:17.462Z\n"
     ]
    }
   ],
   "source": [
    "var timestamp = new Date().toISOString()\n",
    "console.log(timestamp);"
   ]
  },
  {
   "cell_type": "code",
   "execution_count": 22,
   "id": "bb979f95",
   "metadata": {},
   "outputs": [
    {
     "name": "stdout",
     "output_type": "stream",
     "text": [
      "2023-12-21T09:01:38.149Z\n"
     ]
    }
   ],
   "source": [
    "var timestamp = new Date()\n",
    "console.log(timestamp);"
   ]
  },
  {
   "cell_type": "code",
   "execution_count": 23,
   "id": "188e39d3",
   "metadata": {},
   "outputs": [
    {
     "name": "stdout",
     "output_type": "stream",
     "text": [
      "12/21/2023, 1:02:45 AM\n"
     ]
    }
   ],
   "source": [
    "var timestamp = new Date().toLocaleString(\"en-US\", { timeZone: \"America/Los_Angeles\" });\n",
    "console.log(timestamp);"
   ]
  },
  {
   "cell_type": "code",
   "execution_count": 24,
   "id": "d75e1aee",
   "metadata": {},
   "outputs": [
    {
     "ename": "Error",
     "evalue": "Cannot find module 'luxon'\nRequire stack:\n- /home/silvhua/repositories/notion/[eval]",
     "output_type": "error",
     "traceback": [
      "node:internal/modules/cjs/loader:936",
      "  throw err;",
      "  ^",
      "",
      "Error: Cannot find module 'luxon'",
      "Require stack:",
      "- /home/silvhua/repositories/notion/[eval]",
      "    at Function.Module._resolveFilename (node:internal/modules/cjs/loader:933:15)",
      "    at Function.Module._load (node:internal/modules/cjs/loader:778:27)",
      "    at Module.require (node:internal/modules/cjs/loader:999:19)",
      "    at require (node:internal/modules/cjs/helpers:102:18)",
      "    at evalmachine.<anonymous>:1:22",
      "    at Script.runInThisContext (node:vm:129:12)",
      "    at Object.runInThisContext (node:vm:305:38)",
      "    at run ([eval]:1020:15)",
      "    at onRunRequest ([eval]:864:18)",
      "    at onMessage ([eval]:828:13)"
     ]
    }
   ],
   "source": [
    "const { DateTime } = require('luxon');\n",
    "\n",
    "var timestamp = DateTime.now().setZone('America/Los_Angeles').toISO();\n",
    "console.log(timestamp);"
   ]
  },
  {
   "cell_type": "code",
   "execution_count": 25,
   "id": "57662deb",
   "metadata": {},
   "outputs": [
    {
     "ename": "TypeError",
     "evalue": "date.toISOString is not a function",
     "output_type": "error",
     "traceback": [
      "evalmachine.<anonymous>:2",
      "var formattedTimestamp = date.toISOString().replace(/[-T:]/g, '').slice(0, -4);",
      "                              ^",
      "",
      "TypeError: date.toISOString is not a function",
      "    at evalmachine.<anonymous>:2:31",
      "    at Script.runInThisContext (node:vm:129:12)",
      "    at Object.runInThisContext (node:vm:305:38)",
      "    at run ([eval]:1020:15)",
      "    at onRunRequest ([eval]:864:18)",
      "    at onMessage ([eval]:828:13)",
      "    at process.emit (node:events:527:28)",
      "    at emit (node:internal/child_process:936:14)",
      "    at processTicksAndRejections (node:internal/process/task_queues:84:21)"
     ]
    }
   ],
   "source": [
    "var date = new Date().toLocaleString(\"en-US\", { timeZone: \"America/Los_Angeles\" });\n",
    "var formattedTimestamp = date.toISOString().replace(/[-T:]/g, '').slice(0, -4);\n",
    "console.log(formattedTimestamp);"
   ]
  },
  {
   "cell_type": "code",
   "execution_count": 27,
   "id": "b96d3fdc",
   "metadata": {},
   "outputs": [
    {
     "name": "stdout",
     "output_type": "stream",
     "text": [
      "2023-12-21_0107\n"
     ]
    }
   ],
   "source": [
    "var date = new Date().toLocaleString(\"en-US\", { timeZone: \"America/Los_Angeles\" });\n",
    "var dateTime = new Date(date);\n",
    "var year = dateTime.getFullYear();\n",
    "var month = String(dateTime.getMonth() + 1).padStart(2, \"0\");\n",
    "var day = String(dateTime.getDate()).padStart(2, \"0\");\n",
    "var hours = String(dateTime.getHours()).padStart(2, \"0\");\n",
    "var minutes = String(dateTime.getMinutes()).padStart(2, \"0\");\n",
    "var formattedTimestamp = year + \"-\" + month + \"-\" + day + \"_\" + hours + minutes;\n",
    "console.log(formattedTimestamp);"
   ]
  },
  {
   "cell_type": "code",
   "execution_count": 28,
   "id": "f2fb9691",
   "metadata": {},
   "outputs": [
    {
     "name": "stdout",
     "output_type": "stream",
     "text": [
      "2023-12-21_0108\n"
     ]
    }
   ],
   "source": [
    "function getCurrentTimestamp() {\n",
    "    var date = new Date().toLocaleString(\"en-US\", { timeZone: \"America/Los_Angeles\" });\n",
    "    var dateTime = new Date(date);\n",
    "    var year = dateTime.getFullYear();\n",
    "    var month = String(dateTime.getMonth() + 1).padStart(2, \"0\");\n",
    "    var day = String(dateTime.getDate()).padStart(2, \"0\");\n",
    "    var hours = String(dateTime.getHours()).padStart(2, \"0\");\n",
    "    var minutes = String(dateTime.getMinutes()).padStart(2, \"0\");\n",
    "    var formattedTimestamp = year + \"-\" + month + \"-\" + day + \"_\" + hours + minutes;\n",
    "    return formattedTimestamp;\n",
    "  }\n",
    "  \n",
    "  console.log(getCurrentTimestamp());"
   ]
  },
  {
   "cell_type": "markdown",
   "id": "33e7a3a5",
   "metadata": {},
   "source": [
    "# Iteration 1\n",
    "https://www.notion.so/bcd0d296955b4b928621e4b96ebad29c?v=a8119fc56ab54d5da0c6e262fcd47a86&pvs=4"
   ]
  },
  {
   "cell_type": "code",
   "execution_count": 4,
   "id": "61aab14c-1cd3-4848-a303-400fe67ec966",
   "metadata": {},
   "outputs": [
    {
     "name": "stdout",
     "output_type": "stream",
     "text": [
      "2023-12-21_0117\n"
     ]
    },
    {
     "data": {
      "text/plain": [
       "Promise { <pending> }"
      ]
     },
     "execution_count": 4,
     "metadata": {},
     "output_type": "execute_result"
    },
    {
     "name": "stdout",
     "output_type": "stream",
     "text": [
      "Response saved to notion_time_tracking_1wk_2023-12-21_0117.json.json\n"
     ]
    }
   ],
   "source": [
    "var { Client } = require('@notionhq/client');\n",
    "var fs = require('fs').promises;\n",
    "\n",
    "function getCurrentTimestamp() {\n",
    "  var date = new Date().toLocaleString(\"en-US\", { timeZone: \"America/Los_Angeles\" });\n",
    "  var dateTime = new Date(date);\n",
    "  var year = dateTime.getFullYear();\n",
    "  var month = String(dateTime.getMonth() + 1).padStart(2, \"0\");\n",
    "  var day = String(dateTime.getDate()).padStart(2, \"0\");\n",
    "  var hours = String(dateTime.getHours()).padStart(2, \"0\");\n",
    "  var minutes = String(dateTime.getMinutes()).padStart(2, \"0\");\n",
    "  var formattedTimestamp = year + \"-\" + month + \"-\" + day + \"_\" + hours + minutes;\n",
    "  return formattedTimestamp;\n",
    "}\n",
    "\n",
    "console.log(getCurrentTimestamp());\n",
    "\n",
    "async function queryNotionAndSaveResponse(databaseId, jsonFileName, appendTimestamp = false) {\n",
    "  let notionApiKey = 'secret_eKDhysUMKSxUrIzxfM7ztSpF2rx9PGhzqzEX2vaj2C';\n",
    "  let notion = new Client({ auth: notionApiKey });\n",
    "\n",
    "  let response = await notion.databases.query({\n",
    "    database_id: databaseId,\n",
    "    filter: {\n",
    "      property: 'Created time',\n",
    "      date: {\n",
    "        past_week: {},\n",
    "      },\n",
    "    }\n",
    "  });\n",
    "\n",
    "  // Add timestamp to the file name if appendTimestamp is true\n",
    "  if (appendTimestamp) {\n",
    "    const timestamp = getCurrentTimestamp();\n",
    "    jsonFileName = `${jsonFileName}_${timestamp}.json`;\n",
    "  }\n",
    "\n",
    "  // Save the response as a JSON file\n",
    "  await fs.writeFile(`${jsonFileName}.json`, JSON.stringify(response, null, 2));\n",
    "\n",
    "  console.log(`Response saved to ${jsonFileName}.json`);\n",
    "}\n",
    "\n",
    "// Example usage:\n",
    "var myDatabaseId = 'bcd0d296955b4b928621e4b96ebad29c';\n",
    "var myJsonFileName = 'notion_time_tracking_1wk';\n",
    "\n",
    "// Call the function with appendTimestamp set to true\n",
    "queryNotionAndSaveResponse(myDatabaseId, myJsonFileName, true);\n"
   ]
  },
  {
   "cell_type": "markdown",
   "id": "9b1b1562",
   "metadata": {},
   "source": [
    "# Iteration 2"
   ]
  },
  {
   "cell_type": "code",
   "execution_count": null,
   "id": "9df8c205",
   "metadata": {},
   "outputs": [],
   "source": [
    "// Assuming you have an environmental variable named MY_VARIABLE\n",
    "var myVariableValue = process.env.notion_secret;\n",
    "\n",
    "// Check if the variable is defined\n",
    "if (myVariableValue) {\n",
    "  console.log(`The value of MY_VARIABLE is: ${myVariableValue}`);\n",
    "} else {\n",
    "  console.log('MY_VARIABLE is not defined.');\n",
    "}\n"
   ]
  },
  {
   "cell_type": "code",
   "execution_count": 3,
   "id": "a5126557",
   "metadata": {},
   "outputs": [
    {
     "name": "stdout",
     "output_type": "stream",
     "text": [
      "2023-12-21_0133\n"
     ]
    },
    {
     "data": {
      "text/plain": [
       "Promise { <pending> }"
      ]
     },
     "execution_count": 3,
     "metadata": {},
     "output_type": "execute_result"
    },
    {
     "name": "stdout",
     "output_type": "stream",
     "text": [
      "Response saved to notion_time_tracking_1wk_2023-12-21_0133.json\n"
     ]
    }
   ],
   "source": [
    "var { Client } = require('@notionhq/client');\n",
    "var fs = require('fs').promises;\n",
    "\n",
    "function getCurrentTimestamp() {\n",
    "  var date = new Date().toLocaleString(\"en-US\", { timeZone: \"America/Los_Angeles\" });\n",
    "  var dateTime = new Date(date);\n",
    "  var year = dateTime.getFullYear();\n",
    "  var month = String(dateTime.getMonth() + 1).padStart(2, \"0\");\n",
    "  var day = String(dateTime.getDate()).padStart(2, \"0\");\n",
    "  var hours = String(dateTime.getHours()).padStart(2, \"0\");\n",
    "  var minutes = String(dateTime.getMinutes()).padStart(2, \"0\");\n",
    "  var formattedTimestamp = year + \"-\" + month + \"-\" + day + \"_\" + hours + minutes;\n",
    "  return formattedTimestamp;\n",
    "}\n",
    "\n",
    "console.log(getCurrentTimestamp());\n",
    "\n",
    "async function queryNotionAndSaveResponse(databaseId, jsonFileName, appendTimestamp = false) {\n",
    "  let notionApiKey = process.env.notion_secret;\n",
    "  let notion = new Client({ auth: notionApiKey });\n",
    "\n",
    "  let response = await notion.databases.query({\n",
    "    database_id: databaseId,\n",
    "    filter: {\n",
    "      property: 'Created time',\n",
    "      date: {\n",
    "        past_week: {},\n",
    "      },\n",
    "    }\n",
    "  });\n",
    "\n",
    "  // Add timestamp to the file name if appendTimestamp is true\n",
    "  if (appendTimestamp) {\n",
    "    const timestamp = getCurrentTimestamp();\n",
    "    jsonFileName = `${jsonFileName}_${timestamp}`;\n",
    "  }\n",
    "\n",
    "  // Save the response as a JSON file\n",
    "  await fs.writeFile(`${jsonFileName}.json`, JSON.stringify(response, null, 2));\n",
    "\n",
    "  console.log(`Response saved to ${jsonFileName}.json`);\n",
    "}\n",
    "\n",
    "// Example usage:\n",
    "var myDatabaseId = 'bcd0d296955b4b928621e4b96ebad29c';\n",
    "var myJsonFileName = 'notion_time_tracking_1wk';\n",
    "\n",
    "// Call the function with appendTimestamp set to true\n",
    "queryNotionAndSaveResponse(myDatabaseId, myJsonFileName, true);\n"
   ]
  },
  {
   "cell_type": "code",
   "execution_count": null,
   "id": "73bba04f",
   "metadata": {},
   "outputs": [],
   "source": []
  },
  {
   "cell_type": "code",
   "execution_count": null,
   "metadata": {},
   "outputs": [],
   "source": []
  },
  {
   "cell_type": "code",
   "execution_count": null,
   "id": "22c4dbf8",
   "metadata": {},
   "outputs": [],
   "source": []
  },
  {
   "cell_type": "code",
   "execution_count": null,
   "id": "c5341f9b",
   "metadata": {},
   "outputs": [],
   "source": []
  }
 ],
 "metadata": {
  "kernelspec": {
   "display_name": "JavaScript (Node.js)",
   "language": "javascript",
   "name": "javascript"
  },
  "language_info": {
   "file_extension": ".js",
   "mimetype": "application/javascript",
   "name": "javascript",
   "version": "17.9.1"
  }
 },
 "nbformat": 4,
 "nbformat_minor": 5
}
