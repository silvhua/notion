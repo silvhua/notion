{
 "cells": [
  {
   "attachments": {},
   "cell_type": "markdown",
   "metadata": {},
   "source": [
    "# Title\n",
    "[]()"
   ]
  },
  {
   "cell_type": "code",
   "execution_count": 1,
   "metadata": {},
   "outputs": [],
   "source": [
    "\n",
    "import sys\n",
    "sys.path.append(r\"/home/silvhua/custom_python\")\n",
    "sys.path.append(r\"/home/silvhua/repositories/notion/src\")\n",
    "from silvhua import *\n",
    "from notion_functions import *"
   ]
  },
  {
   "cell_type": "markdown",
   "metadata": {},
   "source": [
    "# Howto"
   ]
  },
  {
   "cell_type": "code",
   "execution_count": 8,
   "metadata": {},
   "outputs": [
    {
     "data": {
      "application/vnd.jupyter.widget-view+json": {
       "model_id": "3da292fc3a284624a4c1710dd271a22a",
       "version_major": 2,
       "version_minor": 0
      },
      "text/html": [
       "Cannot show widget. You probably want to rerun the code cell above (<i>Click in the code cell, and press Shift+Enter <kbd>⇧</kbd>+<kbd>↩</kbd></i>)."
      ],
      "text/plain": [
       "Cannot show ipywidgets in text"
      ]
     },
     "metadata": {},
     "output_type": "display_data"
    }
   ],
   "source": [
    "import solara\n",
    "\n",
    "@solara.component\n",
    "def Page():\n",
    "    with solara.Column():\n",
    "        solara.Title(\"I'm in the browser tab and the toolbar\")\n",
    "        with solara.Sidebar():\n",
    "            solara.Markdown(\"## I am in the sidebar\")\n",
    "            solara.SliderInt(label=\"Ideal for placing controls\")\n",
    "        solara.Info(\"I'm in the main content area, put your main content here\")\n",
    "        with solara.Card(\"Use solara.Columns([1, 2]) to create relatively sized columns\"):\n",
    "            with solara.Columns([1, 2, 1]):\n",
    "                solara.Success(\"I'm in the first column\")\n",
    "                solara.Warning(\"I'm in the second column, I am twice as wide\")\n",
    "                solara.Info(\"I am like the first column\")\n",
    "                solara.Info(\"test\")\n",
    "\n",
    "        with solara.Card(\"Use solara.Column() to create a full width column\"):\n",
    "            with solara.Column():\n",
    "                solara.Success(\"I'm first in this full with column\")\n",
    "                solara.Warning(\"I'm second in this full with column\")\n",
    "                solara.Error(\"I'm third in this full with column\")\n",
    "\n",
    "        with solara.Card(\"Use solara.ColumnsResponsive(6, large=4) to response to screen size\"):\n",
    "            n_cards = 6\n",
    "            with solara.ColumnsResponsive(n_cards, large=4):\n",
    "                for i in range(n_cards):\n",
    "                    solara.Info(\"two per column on small screens, three per column on large screens\")\n",
    "\n",
    "Page()"
   ]
  },
  {
   "cell_type": "markdown",
   "metadata": {},
   "source": [
    "## Multi page with single script"
   ]
  },
  {
   "cell_type": "code",
   "execution_count": 12,
   "metadata": {},
   "outputs": [
    {
     "data": {
      "application/vnd.jupyter.widget-view+json": {
       "model_id": "4cf21bc61f3d4b08be0bb1c74829afc7",
       "version_major": 2,
       "version_minor": 0
      },
      "text/html": [
       "Cannot show widget. You probably want to rerun the code cell above (<i>Click in the code cell, and press Shift+Enter <kbd>⇧</kbd>+<kbd>↩</kbd></i>)."
      ],
      "text/plain": [
       "Cannot show ipywidgets in text"
      ]
     },
     "metadata": {},
     "output_type": "display_data"
    }
   ],
   "source": [
    "import solara\n",
    "\n",
    "\n",
    "@solara.component\n",
    "def Home():\n",
    "    solara.Markdown(\"Home\")\n",
    "\n",
    "\n",
    "@solara.component\n",
    "def About():\n",
    "    solara.Markdown(\"About\")\n",
    "\n",
    "\n",
    "routes = [\n",
    "    solara.Route(path=\"/\", component=Home, label=\"home\"),\n",
    "    solara.Route(path=\"about\", component=About, label=\"about\"),\n",
    "]\n",
    "Home()"
   ]
  },
  {
   "cell_type": "markdown",
   "metadata": {},
   "source": [
    "## Multi page with dynamic pages"
   ]
  },
  {
   "cell_type": "code",
   "execution_count": 9,
   "metadata": {},
   "outputs": [
    {
     "data": {
      "application/vnd.jupyter.widget-view+json": {
       "model_id": "248bec5f55864449b8aee8465a9e343b",
       "version_major": 2,
       "version_minor": 0
      },
      "text/html": [
       "Cannot show widget. You probably want to rerun the code cell above (<i>Click in the code cell, and press Shift+Enter <kbd>⇧</kbd>+<kbd>↩</kbd></i>)."
      ],
      "text/plain": [
       "Cannot show ipywidgets in text"
      ]
     },
     "metadata": {},
     "output_type": "display_data"
    }
   ],
   "source": [
    "@solara.component\n",
    "def Page(name: str = \"foo\"):\n",
    "    subpages = [\"foo\", \"bar\", \"solara\", \"react-ipywidgets\"]\n",
    "    solara.Markdown(f\"You are at: {name}\")\n",
    "    # bunch of buttons which navigate to our dynamic route\n",
    "    with solara.Row():\n",
    "        for subpage in subpages:\n",
    "            with solara.Link(subpage):\n",
    "                solara.Button(label=f\"Go to: {subpage}\")\n",
    "\n",
    "Page()"
   ]
  },
  {
   "cell_type": "code",
   "execution_count": null,
   "metadata": {},
   "outputs": [],
   "source": []
  },
  {
   "cell_type": "code",
   "execution_count": null,
   "metadata": {},
   "outputs": [],
   "source": []
  },
  {
   "cell_type": "code",
   "execution_count": null,
   "metadata": {},
   "outputs": [],
   "source": []
  },
  {
   "cell_type": "code",
   "execution_count": null,
   "metadata": {},
   "outputs": [],
   "source": []
  },
  {
   "cell_type": "code",
   "execution_count": null,
   "metadata": {},
   "outputs": [],
   "source": []
  },
  {
   "cell_type": "code",
   "execution_count": null,
   "metadata": {},
   "outputs": [],
   "source": []
  },
  {
   "cell_type": "code",
   "execution_count": null,
   "metadata": {},
   "outputs": [],
   "source": []
  },
  {
   "cell_type": "code",
   "execution_count": null,
   "metadata": {},
   "outputs": [],
   "source": []
  },
  {
   "cell_type": "code",
   "execution_count": null,
   "metadata": {},
   "outputs": [],
   "source": []
  },
  {
   "cell_type": "code",
   "execution_count": null,
   "metadata": {},
   "outputs": [],
   "source": []
  },
  {
   "cell_type": "code",
   "execution_count": null,
   "metadata": {},
   "outputs": [],
   "source": []
  },
  {
   "cell_type": "code",
   "execution_count": null,
   "metadata": {},
   "outputs": [],
   "source": []
  },
  {
   "cell_type": "code",
   "execution_count": null,
   "metadata": {},
   "outputs": [],
   "source": []
  },
  {
   "cell_type": "code",
   "execution_count": null,
   "metadata": {},
   "outputs": [],
   "source": []
  },
  {
   "cell_type": "code",
   "execution_count": null,
   "metadata": {},
   "outputs": [],
   "source": []
  },
  {
   "cell_type": "code",
   "execution_count": null,
   "metadata": {},
   "outputs": [],
   "source": []
  },
  {
   "cell_type": "code",
   "execution_count": null,
   "metadata": {},
   "outputs": [],
   "source": []
  },
  {
   "cell_type": "code",
   "execution_count": null,
   "metadata": {},
   "outputs": [],
   "source": []
  },
  {
   "attachments": {},
   "cell_type": "markdown",
   "metadata": {},
   "source": [
    "# *End of Page*"
   ]
  }
 ],
 "metadata": {
  "kernelspec": {
   "display_name": "Python 3.9.13 64-bit",
   "language": "python",
   "name": "python3"
  },
  "language_info": {
   "codemirror_mode": {
    "name": "ipython",
    "version": 3
   },
   "file_extension": ".py",
   "mimetype": "text/x-python",
   "name": "python",
   "nbconvert_exporter": "python",
   "pygments_lexer": "ipython3",
   "version": "3.10.12"
  },
  "orig_nbformat": 4,
  "vscode": {
   "interpreter": {
    "hash": "11938c6bc6919ae2720b4d5011047913343b08a43b18698fd82dedb0d4417594"
   }
  }
 },
 "nbformat": 4,
 "nbformat_minor": 2
}
