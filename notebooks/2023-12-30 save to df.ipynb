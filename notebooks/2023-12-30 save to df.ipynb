{
 "cells": [
  {
   "attachments": {},
   "cell_type": "markdown",
   "metadata": {},
   "source": [
    "# Title\n",
    "[]()"
   ]
  },
  {
   "cell_type": "code",
   "execution_count": 1,
   "metadata": {},
   "outputs": [],
   "source": [
    "\n",
    "import sys\n",
    "sys.path.append(r\"/home/silvhua/custom_python\")\n",
    "sys.path.append(r\"/home/silvhua/repositories/notion/src\")\n",
    "from silvhua import *"
   ]
  },
  {
   "cell_type": "code",
   "execution_count": null,
   "metadata": {},
   "outputs": [],
   "source": [
    "# set the option to wrap text within cells\n",
    "pd.set_option('display.max_colwidth', 100)\n",
    "# pd.set_option('display.max_colwidth', None)\n",
    "pd.set_option('display.max_rows', 20)\n",
    "pd.set_option('display.max_columns', None)\n",
    "pd.set_option('display.width', None)"
   ]
  },
  {
   "cell_type": "markdown",
   "metadata": {},
   "source": [
    "# Copied from previous notebook `2023-12-26 analyze notion data.ipynb`"
   ]
  },
  {
   "cell_type": "code",
   "execution_count": 2,
   "metadata": {},
   "outputs": [
    {
     "name": "stdout",
     "output_type": "stream",
     "text": [
      "Shape before applying filter: (852, 15)\n",
      "\tDataFrame shape: (852, 15)\n",
      "No change in DataFrame shape after applying filter.\n"
     ]
    }
   ],
   "source": [
    "from wrangling import filter_df_all_conditions\n",
    "\n",
    "def create_notion_df(\n",
    "    filename, filepath, split_columns=['Task Name', 'Task Project name']\n",
    "    ):\n",
    "    data = load_json(filename, filepath)\n",
    "    df = pd.DataFrame(data).transpose()\n",
    "    for split_column in split_columns:\n",
    "        # Explode the rows based on the values in the split_column\n",
    "        df = df.explode(split_column)\n",
    "    \n",
    "    columns = df.columns.tolist()\n",
    "    columns.remove('url')\n",
    "    columns.remove('Name')\n",
    "    columns.remove('Task Project')\n",
    "    df.index.name = 'id'\n",
    "    columns = ['Name'] + columns + ['url', 'id']\n",
    "    df = df.reset_index()\n",
    "    df = df[columns]\n",
    "    df = df.drop_duplicates(subset=['id', 'Task Project name', 'Task Name']) \n",
    "    original_length = df.shape\n",
    "    print(f'Shape before applying filter: {df.shape}')\n",
    "    filters = {\n",
    "        'Elapsed': '> 0'\n",
    "    }\n",
    "    df['created_time'] = pd.to_datetime(df['created_time']).dt.tz_convert('America/Vancouver')\n",
    "    filtered_df = filter_df_all_conditions(df, filters, verbose=False, show_indices=False)\n",
    "    if original_length != filtered_df.shape:\n",
    "        print(f'\\n**Shape after applying filter: {filtered_df.shape}**\\n')\n",
    "    else:\n",
    "        print('No change in DataFrame shape after applying filter.')\n",
    "    return \n",
    "\n",
    "\n",
    "filename = 'notion_time_tracking_parsed_quarter_2023-12-27_0045.json'\n",
    "\n",
    "path = '/home/silvhua/repositories/notion/data/'\n",
    "\n",
    "df = create_notion_df(filename, path)\n",
    "df"
   ]
  },
  {
   "cell_type": "markdown",
   "metadata": {},
   "source": [
    "## `pipeline_analyze.py` script"
   ]
  },
  {
   "cell_type": "code",
   "execution_count": null,
   "metadata": {},
   "outputs": [],
   "source": []
  },
  {
   "cell_type": "code",
   "execution_count": null,
   "metadata": {},
   "outputs": [],
   "source": []
  },
  {
   "cell_type": "code",
   "execution_count": null,
   "metadata": {},
   "outputs": [],
   "source": []
  },
  {
   "cell_type": "code",
   "execution_count": null,
   "metadata": {},
   "outputs": [],
   "source": []
  },
  {
   "cell_type": "code",
   "execution_count": null,
   "metadata": {},
   "outputs": [],
   "source": []
  },
  {
   "cell_type": "code",
   "execution_count": null,
   "metadata": {},
   "outputs": [],
   "source": []
  },
  {
   "cell_type": "code",
   "execution_count": null,
   "metadata": {},
   "outputs": [],
   "source": []
  },
  {
   "cell_type": "code",
   "execution_count": null,
   "metadata": {},
   "outputs": [],
   "source": []
  },
  {
   "cell_type": "code",
   "execution_count": null,
   "metadata": {},
   "outputs": [],
   "source": []
  },
  {
   "cell_type": "code",
   "execution_count": null,
   "metadata": {},
   "outputs": [],
   "source": []
  },
  {
   "cell_type": "code",
   "execution_count": null,
   "metadata": {},
   "outputs": [],
   "source": []
  },
  {
   "cell_type": "code",
   "execution_count": null,
   "metadata": {},
   "outputs": [],
   "source": []
  },
  {
   "cell_type": "code",
   "execution_count": null,
   "metadata": {},
   "outputs": [],
   "source": []
  },
  {
   "cell_type": "code",
   "execution_count": null,
   "metadata": {},
   "outputs": [],
   "source": []
  },
  {
   "cell_type": "code",
   "execution_count": null,
   "metadata": {},
   "outputs": [],
   "source": []
  },
  {
   "cell_type": "code",
   "execution_count": null,
   "metadata": {},
   "outputs": [],
   "source": []
  },
  {
   "cell_type": "code",
   "execution_count": null,
   "metadata": {},
   "outputs": [],
   "source": []
  },
  {
   "cell_type": "code",
   "execution_count": null,
   "metadata": {},
   "outputs": [],
   "source": []
  },
  {
   "cell_type": "code",
   "execution_count": null,
   "metadata": {},
   "outputs": [],
   "source": []
  },
  {
   "attachments": {},
   "cell_type": "markdown",
   "metadata": {},
   "source": [
    "# *End of Page*"
   ]
  }
 ],
 "metadata": {
  "kernelspec": {
   "display_name": "Python 3.9.13 64-bit",
   "language": "python",
   "name": "python3"
  },
  "language_info": {
   "codemirror_mode": {
    "name": "ipython",
    "version": 3
   },
   "file_extension": ".py",
   "mimetype": "text/x-python",
   "name": "python",
   "nbconvert_exporter": "python",
   "pygments_lexer": "ipython3",
   "version": "3.10.12"
  },
  "orig_nbformat": 4,
  "vscode": {
   "interpreter": {
    "hash": "11938c6bc6919ae2720b4d5011047913343b08a43b18698fd82dedb0d4417594"
   }
  }
 },
 "nbformat": 4,
 "nbformat_minor": 2
}
