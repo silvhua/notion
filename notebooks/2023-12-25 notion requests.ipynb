{
 "cells": [
  {
   "attachments": {},
   "cell_type": "markdown",
   "metadata": {},
   "source": [
    "# Iteration 1"
   ]
  },
  {
   "cell_type": "code",
   "execution_count": 1,
   "metadata": {},
   "outputs": [
    {
     "name": "stdout",
     "output_type": "stream",
     "text": [
      "Promise { <pending> }\n"
     ]
    }
   ],
   "source": [
    "const { Client } = require('@notionhq/client');\n",
    "\n",
    "\n",
    "async function retrievePage(pageId) {\n",
    "let notionApiKey = process.env.notion_secret;\n",
    "let notion = new Client({ auth: notionApiKey });\n",
    "  try {\n",
    "    const response = await notion.pages.retrieve({ page_id: pageId });\n",
    "    return response;\n",
    "  } catch (error) {\n",
    "    // Handle errors if needed\n",
    "    console.error(error);\n",
    "    throw error;\n",
    "  }\n",
    "}\n",
    "\n",
    "var response = retrievePage('4724abef-8c3e-4736-b2b3-33680bd83929')\n",
    "console.log(response)"
   ]
  },
  {
   "cell_type": "code",
   "execution_count": 2,
   "metadata": {},
   "outputs": [
    {
     "name": "stdout",
     "output_type": "stream",
     "text": [
      "Promise {\n",
      "  {\n",
      "    object: 'page',\n",
      "    id: '4724abef-8c3e-4736-b2b3-33680bd83929',\n",
      "    created_time: '2023-11-22T19:09:00.000Z',\n",
      "    last_edited_time: '2023-12-08T16:03:00.000Z',\n",
      "    created_by: { object: 'user', id: 'f4b38e73-d5f6-43c6-99b5-a5cbf1fb60c2' },\n",
      "    last_edited_by: { object: 'user', id: 'f4b38e73-d5f6-43c6-99b5-a5cbf1fb60c2' },\n",
      "    cover: null,\n",
      "    icon: { type: 'external', external: [Object] },\n",
      "    parent: {\n",
      "      type: 'database_id',\n",
      "      database_id: 'b6b0367a-e451-48d3-b985-3464e43c6363'\n",
      "    },\n",
      "    archived: false,\n",
      "    properties: {\n",
      "      'Project (parent task)': [Object],\n",
      "      Notes: [Object],\n",
      "      'total subtask time': [Object],\n",
      "      'when initiated': [Object],\n",
      "      'work log': [Object],\n",
      "      'initiation notes': [Object],\n",
      "      'Last edited time': [Object],\n",
      "      'total time': [Object],\n",
      "      'Roadmap Item': [Object],\n",
      "      'Achieve by': [Object],\n",
      "      'Subtasks completion': [Object],\n",
      "      URL: [Object],\n",
      "      'Notes from Ginkgo log': [Object],\n",
      "      'summarized time tracking': [Object],\n",
      "      'Notes from log': [Object],\n",
      "      'Created time': [Object],\n",
      "      'time tracking': [Object],\n",
      "      'Project tags': [Object],\n",
      "      Initiation: [Object],\n",
      "      Name: [Object],\n",
      "      Tags: [Object],\n",
      "      Assignee: [Object],\n",
      "      Status: [Object],\n",
      "      Due: [Object],\n",
      "      Priority: [Object],\n",
      "      'Sub-tasks': [Object],\n",
      "      'Parent-task': [Object],\n",
      "      Sprint: [Object],\n",
      "      Project: [Object],\n",
      "      'Task ID': [Object],\n",
      "      'GitHub Pull Requests': [Object]\n",
      "    },\n",
      "    url: 'https://www.notion.so/2023-11-22-provide-list-of-published-exercise-IDs-to-account-for-bundle-asset-updates-4724abef8c3e4736b2b333680bd83929',\n",
      "    public_url: 'https://sand-gallimimus-e92.notion.site/2023-11-22-provide-list-of-published-exercise-IDs-to-account-for-bundle-asset-updates-4724abef8c3e4736b2b333680bd83929',\n",
      "    request_id: '1b7c02a2-273b-4d49-b242-279c46546f21'\n",
      "  }\n",
      "}\n"
     ]
    }
   ],
   "source": [
    "console.log(response)"
   ]
  },
  {
   "cell_type": "markdown",
   "metadata": {},
   "source": [
    "## 1.1"
   ]
  },
  {
   "cell_type": "code",
   "execution_count": 1,
   "metadata": {},
   "outputs": [
    {
     "name": "stdout",
     "output_type": "stream",
     "text": [
      "Saved response to ../data/notion_page_2023-12-25_1218.json\n"
     ]
    }
   ],
   "source": [
    "var {getCurrentTimestamp, loadJsonFile} = require('../src/fileFunctions')\n",
    "const fs = require('fs');\n",
    "\n",
    "async function retrievePage(\n",
    "  pageId, jsonFileName='../data/notion_page', save = true, appendTimestamp = true\n",
    "  ) {\n",
    "  const { Client } = require('@notionhq/client');\n",
    "  const fs = require('fs');\n",
    "  let notionApiKey = process.env.notion_secret;\n",
    "  let notion = new Client({ auth: notionApiKey });\n",
    "    try {\n",
    "      const response = await notion.pages.retrieve({ page_id: pageId });\n",
    "      if (save) {\n",
    "        if (appendTimestamp) {\n",
    "          const timestamp = getCurrentTimestamp();\n",
    "          jsonFileName = `${jsonFileName}_${timestamp}`\n",
    "        }\n",
    "        await fs.promises.writeFile(`${jsonFileName}.json`, JSON.stringify(response, null, 2));\n",
    "        console.log(`Saved response to ${jsonFileName}.json`);\n",
    "      }\n",
    "      return response;\n",
    "    } catch (error) {\n",
    "      // Handle errors if needed\n",
    "      console.error(error);\n",
    "      throw error;\n",
    "    }\n",
    "}\n",
    "\n",
    "var response = retrievePage('4724abef-8c3e-4736-b2b3-33680bd83929');\n"
   ]
  },
  {
   "cell_type": "code",
   "execution_count": null,
   "metadata": {},
   "outputs": [],
   "source": []
  },
  {
   "cell_type": "code",
   "execution_count": null,
   "metadata": {},
   "outputs": [],
   "source": []
  },
  {
   "cell_type": "code",
   "execution_count": null,
   "metadata": {},
   "outputs": [],
   "source": []
  },
  {
   "cell_type": "code",
   "execution_count": null,
   "metadata": {},
   "outputs": [],
   "source": []
  },
  {
   "cell_type": "code",
   "execution_count": null,
   "metadata": {},
   "outputs": [],
   "source": []
  },
  {
   "cell_type": "code",
   "execution_count": null,
   "metadata": {},
   "outputs": [],
   "source": []
  },
  {
   "cell_type": "code",
   "execution_count": null,
   "metadata": {},
   "outputs": [],
   "source": []
  },
  {
   "cell_type": "code",
   "execution_count": null,
   "metadata": {},
   "outputs": [],
   "source": []
  },
  {
   "cell_type": "code",
   "execution_count": null,
   "metadata": {},
   "outputs": [],
   "source": []
  },
  {
   "cell_type": "code",
   "execution_count": null,
   "metadata": {},
   "outputs": [],
   "source": []
  },
  {
   "cell_type": "code",
   "execution_count": null,
   "metadata": {},
   "outputs": [],
   "source": []
  },
  {
   "cell_type": "code",
   "execution_count": null,
   "metadata": {},
   "outputs": [],
   "source": []
  },
  {
   "cell_type": "code",
   "execution_count": null,
   "metadata": {},
   "outputs": [],
   "source": []
  },
  {
   "cell_type": "code",
   "execution_count": null,
   "metadata": {},
   "outputs": [],
   "source": []
  },
  {
   "cell_type": "code",
   "execution_count": null,
   "metadata": {},
   "outputs": [],
   "source": []
  },
  {
   "cell_type": "code",
   "execution_count": null,
   "metadata": {},
   "outputs": [],
   "source": []
  },
  {
   "attachments": {},
   "cell_type": "markdown",
   "metadata": {},
   "source": [
    "# *End of Page*"
   ]
  }
 ],
 "metadata": {
  "kernelspec": {
   "display_name": "JavaScript (Node.js)",
   "language": "javascript",
   "name": "javascript"
  },
  "language_info": {
   "file_extension": ".js",
   "mimetype": "application/javascript",
   "name": "javascript",
   "version": "17.9.1"
  },
  "orig_nbformat": 4,
  "vscode": {
   "interpreter": {
    "hash": "11938c6bc6919ae2720b4d5011047913343b08a43b18698fd82dedb0d4417594"
   }
  }
 },
 "nbformat": 4,
 "nbformat_minor": 2
}
